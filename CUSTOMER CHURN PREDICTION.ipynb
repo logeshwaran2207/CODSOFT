{
 "cells": [
  {
   "cell_type": "code",
   "execution_count": 11,
   "id": "55bc3322-b1dc-4d4a-b7b3-4adca078b656",
   "metadata": {},
   "outputs": [],
   "source": [
    "import numpy as np\n",
    "import pandas as pd\n",
    "import matplotlib.pyplot as plt"
   ]
  },
  {
   "cell_type": "code",
   "execution_count": 12,
   "id": "6b165995-2263-4546-87cf-bddb0cac38cb",
   "metadata": {},
   "outputs": [
    {
     "data": {
      "text/html": [
       "<div>\n",
       "<style scoped>\n",
       "    .dataframe tbody tr th:only-of-type {\n",
       "        vertical-align: middle;\n",
       "    }\n",
       "\n",
       "    .dataframe tbody tr th {\n",
       "        vertical-align: top;\n",
       "    }\n",
       "\n",
       "    .dataframe thead th {\n",
       "        text-align: right;\n",
       "    }\n",
       "</style>\n",
       "<table border=\"1\" class=\"dataframe\">\n",
       "  <thead>\n",
       "    <tr style=\"text-align: right;\">\n",
       "      <th></th>\n",
       "      <th>RowNumber</th>\n",
       "      <th>CustomerId</th>\n",
       "      <th>Surname</th>\n",
       "      <th>CreditScore</th>\n",
       "      <th>Geography</th>\n",
       "      <th>Gender</th>\n",
       "      <th>Age</th>\n",
       "      <th>Tenure</th>\n",
       "      <th>Balance</th>\n",
       "      <th>NumOfProducts</th>\n",
       "      <th>HasCrCard</th>\n",
       "      <th>IsActiveMember</th>\n",
       "      <th>EstimatedSalary</th>\n",
       "      <th>Exited</th>\n",
       "    </tr>\n",
       "  </thead>\n",
       "  <tbody>\n",
       "    <tr>\n",
       "      <th>0</th>\n",
       "      <td>1</td>\n",
       "      <td>15634602</td>\n",
       "      <td>Hargrave</td>\n",
       "      <td>619</td>\n",
       "      <td>France</td>\n",
       "      <td>Female</td>\n",
       "      <td>42</td>\n",
       "      <td>2</td>\n",
       "      <td>0.00</td>\n",
       "      <td>1</td>\n",
       "      <td>1</td>\n",
       "      <td>1</td>\n",
       "      <td>101348.88</td>\n",
       "      <td>1</td>\n",
       "    </tr>\n",
       "    <tr>\n",
       "      <th>1</th>\n",
       "      <td>2</td>\n",
       "      <td>15647311</td>\n",
       "      <td>Hill</td>\n",
       "      <td>608</td>\n",
       "      <td>Spain</td>\n",
       "      <td>Female</td>\n",
       "      <td>41</td>\n",
       "      <td>1</td>\n",
       "      <td>83807.86</td>\n",
       "      <td>1</td>\n",
       "      <td>0</td>\n",
       "      <td>1</td>\n",
       "      <td>112542.58</td>\n",
       "      <td>0</td>\n",
       "    </tr>\n",
       "    <tr>\n",
       "      <th>2</th>\n",
       "      <td>3</td>\n",
       "      <td>15619304</td>\n",
       "      <td>Onio</td>\n",
       "      <td>502</td>\n",
       "      <td>France</td>\n",
       "      <td>Female</td>\n",
       "      <td>42</td>\n",
       "      <td>8</td>\n",
       "      <td>159660.80</td>\n",
       "      <td>3</td>\n",
       "      <td>1</td>\n",
       "      <td>0</td>\n",
       "      <td>113931.57</td>\n",
       "      <td>1</td>\n",
       "    </tr>\n",
       "    <tr>\n",
       "      <th>3</th>\n",
       "      <td>4</td>\n",
       "      <td>15701354</td>\n",
       "      <td>Boni</td>\n",
       "      <td>699</td>\n",
       "      <td>France</td>\n",
       "      <td>Female</td>\n",
       "      <td>39</td>\n",
       "      <td>1</td>\n",
       "      <td>0.00</td>\n",
       "      <td>2</td>\n",
       "      <td>0</td>\n",
       "      <td>0</td>\n",
       "      <td>93826.63</td>\n",
       "      <td>0</td>\n",
       "    </tr>\n",
       "    <tr>\n",
       "      <th>4</th>\n",
       "      <td>5</td>\n",
       "      <td>15737888</td>\n",
       "      <td>Mitchell</td>\n",
       "      <td>850</td>\n",
       "      <td>Spain</td>\n",
       "      <td>Female</td>\n",
       "      <td>43</td>\n",
       "      <td>2</td>\n",
       "      <td>125510.82</td>\n",
       "      <td>1</td>\n",
       "      <td>1</td>\n",
       "      <td>1</td>\n",
       "      <td>79084.10</td>\n",
       "      <td>0</td>\n",
       "    </tr>\n",
       "  </tbody>\n",
       "</table>\n",
       "</div>"
      ],
      "text/plain": [
       "   RowNumber  CustomerId   Surname  CreditScore Geography  Gender  Age  \\\n",
       "0          1    15634602  Hargrave          619    France  Female   42   \n",
       "1          2    15647311      Hill          608     Spain  Female   41   \n",
       "2          3    15619304      Onio          502    France  Female   42   \n",
       "3          4    15701354      Boni          699    France  Female   39   \n",
       "4          5    15737888  Mitchell          850     Spain  Female   43   \n",
       "\n",
       "   Tenure    Balance  NumOfProducts  HasCrCard  IsActiveMember  \\\n",
       "0       2       0.00              1          1               1   \n",
       "1       1   83807.86              1          0               1   \n",
       "2       8  159660.80              3          1               0   \n",
       "3       1       0.00              2          0               0   \n",
       "4       2  125510.82              1          1               1   \n",
       "\n",
       "   EstimatedSalary  Exited  \n",
       "0        101348.88       1  \n",
       "1        112542.58       0  \n",
       "2        113931.57       1  \n",
       "3         93826.63       0  \n",
       "4         79084.10       0  "
      ]
     },
     "execution_count": 12,
     "metadata": {},
     "output_type": "execute_result"
    }
   ],
   "source": [
    "df=pd.read_csv(\"C:\\\\Users\\\\loges\\\\Downloads\\\\archive (2)\\\\Churn_Modelling.csv\")\n",
    "df.head()"
   ]
  },
  {
   "cell_type": "code",
   "execution_count": 13,
   "id": "c4ba0105-8401-4fe0-bef6-53339db5ff5c",
   "metadata": {},
   "outputs": [
    {
     "data": {
      "text/html": [
       "<div>\n",
       "<style scoped>\n",
       "    .dataframe tbody tr th:only-of-type {\n",
       "        vertical-align: middle;\n",
       "    }\n",
       "\n",
       "    .dataframe tbody tr th {\n",
       "        vertical-align: top;\n",
       "    }\n",
       "\n",
       "    .dataframe thead th {\n",
       "        text-align: right;\n",
       "    }\n",
       "</style>\n",
       "<table border=\"1\" class=\"dataframe\">\n",
       "  <thead>\n",
       "    <tr style=\"text-align: right;\">\n",
       "      <th></th>\n",
       "      <th>CreditScore</th>\n",
       "      <th>Geography</th>\n",
       "      <th>Gender</th>\n",
       "      <th>Age</th>\n",
       "      <th>Tenure</th>\n",
       "      <th>Balance</th>\n",
       "      <th>NumOfProducts</th>\n",
       "      <th>HasCrCard</th>\n",
       "      <th>IsActiveMember</th>\n",
       "      <th>EstimatedSalary</th>\n",
       "    </tr>\n",
       "  </thead>\n",
       "  <tbody>\n",
       "    <tr>\n",
       "      <th>0</th>\n",
       "      <td>619</td>\n",
       "      <td>France</td>\n",
       "      <td>Female</td>\n",
       "      <td>42</td>\n",
       "      <td>2</td>\n",
       "      <td>0.00</td>\n",
       "      <td>1</td>\n",
       "      <td>1</td>\n",
       "      <td>1</td>\n",
       "      <td>101348.88</td>\n",
       "    </tr>\n",
       "    <tr>\n",
       "      <th>1</th>\n",
       "      <td>608</td>\n",
       "      <td>Spain</td>\n",
       "      <td>Female</td>\n",
       "      <td>41</td>\n",
       "      <td>1</td>\n",
       "      <td>83807.86</td>\n",
       "      <td>1</td>\n",
       "      <td>0</td>\n",
       "      <td>1</td>\n",
       "      <td>112542.58</td>\n",
       "    </tr>\n",
       "    <tr>\n",
       "      <th>2</th>\n",
       "      <td>502</td>\n",
       "      <td>France</td>\n",
       "      <td>Female</td>\n",
       "      <td>42</td>\n",
       "      <td>8</td>\n",
       "      <td>159660.80</td>\n",
       "      <td>3</td>\n",
       "      <td>1</td>\n",
       "      <td>0</td>\n",
       "      <td>113931.57</td>\n",
       "    </tr>\n",
       "    <tr>\n",
       "      <th>3</th>\n",
       "      <td>699</td>\n",
       "      <td>France</td>\n",
       "      <td>Female</td>\n",
       "      <td>39</td>\n",
       "      <td>1</td>\n",
       "      <td>0.00</td>\n",
       "      <td>2</td>\n",
       "      <td>0</td>\n",
       "      <td>0</td>\n",
       "      <td>93826.63</td>\n",
       "    </tr>\n",
       "    <tr>\n",
       "      <th>4</th>\n",
       "      <td>850</td>\n",
       "      <td>Spain</td>\n",
       "      <td>Female</td>\n",
       "      <td>43</td>\n",
       "      <td>2</td>\n",
       "      <td>125510.82</td>\n",
       "      <td>1</td>\n",
       "      <td>1</td>\n",
       "      <td>1</td>\n",
       "      <td>79084.10</td>\n",
       "    </tr>\n",
       "  </tbody>\n",
       "</table>\n",
       "</div>"
      ],
      "text/plain": [
       "   CreditScore Geography  Gender  Age  Tenure    Balance  NumOfProducts  \\\n",
       "0          619    France  Female   42       2       0.00              1   \n",
       "1          608     Spain  Female   41       1   83807.86              1   \n",
       "2          502    France  Female   42       8  159660.80              3   \n",
       "3          699    France  Female   39       1       0.00              2   \n",
       "4          850     Spain  Female   43       2  125510.82              1   \n",
       "\n",
       "   HasCrCard  IsActiveMember  EstimatedSalary  \n",
       "0          1               1        101348.88  \n",
       "1          0               1        112542.58  \n",
       "2          1               0        113931.57  \n",
       "3          0               0         93826.63  \n",
       "4          1               1         79084.10  "
      ]
     },
     "execution_count": 13,
     "metadata": {},
     "output_type": "execute_result"
    }
   ],
   "source": [
    "X=df.iloc[:,3:13]\n",
    "X.head()"
   ]
  },
  {
   "cell_type": "code",
   "execution_count": 14,
   "id": "9ab50aab-6ce3-453f-8216-4327335ca325",
   "metadata": {},
   "outputs": [
    {
     "data": {
      "text/plain": [
       "0    1\n",
       "1    0\n",
       "2    1\n",
       "3    0\n",
       "4    0\n",
       "Name: Exited, dtype: int64"
      ]
     },
     "execution_count": 14,
     "metadata": {},
     "output_type": "execute_result"
    }
   ],
   "source": [
    "y=df.iloc[:,13]\n",
    "y.head()"
   ]
  },
  {
   "cell_type": "code",
   "execution_count": 15,
   "id": "bbac7080-6393-4477-b452-62a38902ad4a",
   "metadata": {},
   "outputs": [
    {
     "data": {
      "text/html": [
       "<div>\n",
       "<style scoped>\n",
       "    .dataframe tbody tr th:only-of-type {\n",
       "        vertical-align: middle;\n",
       "    }\n",
       "\n",
       "    .dataframe tbody tr th {\n",
       "        vertical-align: top;\n",
       "    }\n",
       "\n",
       "    .dataframe thead th {\n",
       "        text-align: right;\n",
       "    }\n",
       "</style>\n",
       "<table border=\"1\" class=\"dataframe\">\n",
       "  <thead>\n",
       "    <tr style=\"text-align: right;\">\n",
       "      <th></th>\n",
       "      <th>CreditScore</th>\n",
       "      <th>Age</th>\n",
       "      <th>Tenure</th>\n",
       "      <th>Balance</th>\n",
       "      <th>NumOfProducts</th>\n",
       "      <th>HasCrCard</th>\n",
       "      <th>IsActiveMember</th>\n",
       "      <th>EstimatedSalary</th>\n",
       "      <th>Germany</th>\n",
       "      <th>Spain</th>\n",
       "      <th>Male</th>\n",
       "    </tr>\n",
       "  </thead>\n",
       "  <tbody>\n",
       "    <tr>\n",
       "      <th>0</th>\n",
       "      <td>619</td>\n",
       "      <td>42</td>\n",
       "      <td>2</td>\n",
       "      <td>0.00</td>\n",
       "      <td>1</td>\n",
       "      <td>1</td>\n",
       "      <td>1</td>\n",
       "      <td>101348.88</td>\n",
       "      <td>False</td>\n",
       "      <td>False</td>\n",
       "      <td>False</td>\n",
       "    </tr>\n",
       "    <tr>\n",
       "      <th>1</th>\n",
       "      <td>608</td>\n",
       "      <td>41</td>\n",
       "      <td>1</td>\n",
       "      <td>83807.86</td>\n",
       "      <td>1</td>\n",
       "      <td>0</td>\n",
       "      <td>1</td>\n",
       "      <td>112542.58</td>\n",
       "      <td>False</td>\n",
       "      <td>True</td>\n",
       "      <td>False</td>\n",
       "    </tr>\n",
       "    <tr>\n",
       "      <th>2</th>\n",
       "      <td>502</td>\n",
       "      <td>42</td>\n",
       "      <td>8</td>\n",
       "      <td>159660.80</td>\n",
       "      <td>3</td>\n",
       "      <td>1</td>\n",
       "      <td>0</td>\n",
       "      <td>113931.57</td>\n",
       "      <td>False</td>\n",
       "      <td>False</td>\n",
       "      <td>False</td>\n",
       "    </tr>\n",
       "    <tr>\n",
       "      <th>3</th>\n",
       "      <td>699</td>\n",
       "      <td>39</td>\n",
       "      <td>1</td>\n",
       "      <td>0.00</td>\n",
       "      <td>2</td>\n",
       "      <td>0</td>\n",
       "      <td>0</td>\n",
       "      <td>93826.63</td>\n",
       "      <td>False</td>\n",
       "      <td>False</td>\n",
       "      <td>False</td>\n",
       "    </tr>\n",
       "    <tr>\n",
       "      <th>4</th>\n",
       "      <td>850</td>\n",
       "      <td>43</td>\n",
       "      <td>2</td>\n",
       "      <td>125510.82</td>\n",
       "      <td>1</td>\n",
       "      <td>1</td>\n",
       "      <td>1</td>\n",
       "      <td>79084.10</td>\n",
       "      <td>False</td>\n",
       "      <td>True</td>\n",
       "      <td>False</td>\n",
       "    </tr>\n",
       "  </tbody>\n",
       "</table>\n",
       "</div>"
      ],
      "text/plain": [
       "   CreditScore  Age  Tenure    Balance  NumOfProducts  HasCrCard  \\\n",
       "0          619   42       2       0.00              1          1   \n",
       "1          608   41       1   83807.86              1          0   \n",
       "2          502   42       8  159660.80              3          1   \n",
       "3          699   39       1       0.00              2          0   \n",
       "4          850   43       2  125510.82              1          1   \n",
       "\n",
       "   IsActiveMember  EstimatedSalary  Germany  Spain   Male  \n",
       "0               1        101348.88    False  False  False  \n",
       "1               1        112542.58    False   True  False  \n",
       "2               0        113931.57    False  False  False  \n",
       "3               0         93826.63    False  False  False  \n",
       "4               1         79084.10    False   True  False  "
      ]
     },
     "execution_count": 15,
     "metadata": {},
     "output_type": "execute_result"
    }
   ],
   "source": [
    "dummies=pd.get_dummies(X['Geography'],drop_first=True)\n",
    "X=pd.concat([X,dummies],axis=1)\n",
    "X.drop('Geography',axis=1,inplace=True)\n",
    "dummies=pd.get_dummies(X['Gender'],drop_first=True)\n",
    "X=pd.concat([X,dummies],axis=1)\n",
    "X.drop('Gender',axis=1,inplace=True)\n",
    "X.head()"
   ]
  },
  {
   "cell_type": "code",
   "execution_count": 16,
   "id": "b91eb050-647b-4daa-9f05-b84db1633166",
   "metadata": {},
   "outputs": [
    {
     "data": {
      "text/plain": [
       "(10000, 11)"
      ]
     },
     "execution_count": 16,
     "metadata": {},
     "output_type": "execute_result"
    }
   ],
   "source": [
    "from sklearn.model_selection import train_test_split\n",
    "X_train,X_test,y_train,y_test=train_test_split(X,y,test_size=.2)\n",
    "from sklearn.preprocessing import StandardScaler\n",
    "scaler=StandardScaler()\n",
    "X_train=scaler.fit_transform(X_train)\n",
    "X_test=scaler.transform(X_test)\n",
    "from tensorflow.keras.models import Sequential\n",
    "from tensorflow.keras.layers import Dense\n",
    "from tensorflow.keras.layers import ReLU,PReLU,ELU,LeakyReLU\n",
    "from tensorflow.keras.layers import Dropout\n",
    "X.shape"
   ]
  },
  {
   "cell_type": "code",
   "execution_count": 17,
   "id": "0ba59707-8383-461e-b32f-1b21f61122c2",
   "metadata": {},
   "outputs": [],
   "source": [
    "# create a model\n",
    "classifier=Sequential()\n",
    "# input layer\n",
    "classifier.add(Dense(units=11,activation='relu'))\n",
    "# first hidden layer\n",
    "classifier.add(Dense(units=7,activation='relu'))\n",
    "# second\n",
    "classifier.add(Dense(units=6,activation='relu'))\n",
    "#output\n",
    "classifier.add(Dense(units=1,activation='sigmoid'))"
   ]
  },
  {
   "cell_type": "code",
   "execution_count": 19,
   "id": "0ed20bea-b459-43bc-8eaa-0e0b7145930d",
   "metadata": {},
   "outputs": [],
   "source": [
    "import tensorflow\n",
    "opt=tensorflow.keras.optimizers.Adam(learning_rate=.01)\n",
    "classifier.compile(optimizer=opt,loss='binary_crossentropy',metrics=['accuracy'])"
   ]
  },
  {
   "cell_type": "code",
   "execution_count": 20,
   "id": "691b79c7-72c3-4c3c-aa1d-9d0abe79229e",
   "metadata": {},
   "outputs": [],
   "source": [
    "classifier.compile(optimizer=opt,loss='binary_crossentropy',metrics=['accuracy'])\n",
    "import tensorflow\n",
    "early_stopping=tensorflow.keras.callbacks.EarlyStopping(\n",
    "    monitor='val_loss',\n",
    "    min_delta=.0001,\n",
    "    patience=20,\n",
    "    verbose=1,\n",
    "    mode='auto',\n",
    "    baseline=None,\n",
    "    restore_best_weights=False\n",
    "\n",
    ")"
   ]
  },
  {
   "cell_type": "code",
   "execution_count": 21,
   "id": "ce18d327-ab44-4095-9153-023cf6e84b80",
   "metadata": {},
   "outputs": [
    {
     "name": "stdout",
     "output_type": "stream",
     "text": [
      "Epoch 1/1000\n",
      "\u001b[1m536/536\u001b[0m \u001b[32m━━━━━━━━━━━━━━━━━━━━\u001b[0m\u001b[37m\u001b[0m \u001b[1m7s\u001b[0m 4ms/step - accuracy: 0.7746 - loss: 0.4912 - val_accuracy: 0.8289 - val_loss: 0.3941\n",
      "Epoch 2/1000\n",
      "\u001b[1m536/536\u001b[0m \u001b[32m━━━━━━━━━━━━━━━━━━━━\u001b[0m\u001b[37m\u001b[0m \u001b[1m2s\u001b[0m 3ms/step - accuracy: 0.8148 - loss: 0.3935 - val_accuracy: 0.8387 - val_loss: 0.3760\n",
      "Epoch 3/1000\n",
      "\u001b[1m536/536\u001b[0m \u001b[32m━━━━━━━━━━━━━━━━━━━━\u001b[0m\u001b[37m\u001b[0m \u001b[1m2s\u001b[0m 3ms/step - accuracy: 0.8512 - loss: 0.3478 - val_accuracy: 0.8516 - val_loss: 0.3743\n",
      "Epoch 4/1000\n",
      "\u001b[1m536/536\u001b[0m \u001b[32m━━━━━━━━━━━━━━━━━━━━\u001b[0m\u001b[37m\u001b[0m \u001b[1m2s\u001b[0m 4ms/step - accuracy: 0.8585 - loss: 0.3323 - val_accuracy: 0.8569 - val_loss: 0.3585\n",
      "Epoch 5/1000\n",
      "\u001b[1m536/536\u001b[0m \u001b[32m━━━━━━━━━━━━━━━━━━━━\u001b[0m\u001b[37m\u001b[0m \u001b[1m2s\u001b[0m 3ms/step - accuracy: 0.8586 - loss: 0.3439 - val_accuracy: 0.8554 - val_loss: 0.3518\n",
      "Epoch 6/1000\n",
      "\u001b[1m536/536\u001b[0m \u001b[32m━━━━━━━━━━━━━━━━━━━━\u001b[0m\u001b[37m\u001b[0m \u001b[1m2s\u001b[0m 3ms/step - accuracy: 0.8637 - loss: 0.3280 - val_accuracy: 0.8535 - val_loss: 0.3659\n",
      "Epoch 7/1000\n",
      "\u001b[1m536/536\u001b[0m \u001b[32m━━━━━━━━━━━━━━━━━━━━\u001b[0m\u001b[37m\u001b[0m \u001b[1m2s\u001b[0m 3ms/step - accuracy: 0.8657 - loss: 0.3286 - val_accuracy: 0.8368 - val_loss: 0.3732\n",
      "Epoch 8/1000\n",
      "\u001b[1m536/536\u001b[0m \u001b[32m━━━━━━━━━━━━━━━━━━━━\u001b[0m\u001b[37m\u001b[0m \u001b[1m3s\u001b[0m 4ms/step - accuracy: 0.8585 - loss: 0.3306 - val_accuracy: 0.8535 - val_loss: 0.3565\n",
      "Epoch 9/1000\n",
      "\u001b[1m536/536\u001b[0m \u001b[32m━━━━━━━━━━━━━━━━━━━━\u001b[0m\u001b[37m\u001b[0m \u001b[1m3s\u001b[0m 4ms/step - accuracy: 0.8579 - loss: 0.3494 - val_accuracy: 0.8527 - val_loss: 0.3636\n",
      "Epoch 10/1000\n",
      "\u001b[1m536/536\u001b[0m \u001b[32m━━━━━━━━━━━━━━━━━━━━\u001b[0m\u001b[37m\u001b[0m \u001b[1m2s\u001b[0m 3ms/step - accuracy: 0.8628 - loss: 0.3280 - val_accuracy: 0.8554 - val_loss: 0.3658\n",
      "Epoch 11/1000\n",
      "\u001b[1m536/536\u001b[0m \u001b[32m━━━━━━━━━━━━━━━━━━━━\u001b[0m\u001b[37m\u001b[0m \u001b[1m3s\u001b[0m 4ms/step - accuracy: 0.8619 - loss: 0.3387 - val_accuracy: 0.8546 - val_loss: 0.3597\n",
      "Epoch 12/1000\n",
      "\u001b[1m536/536\u001b[0m \u001b[32m━━━━━━━━━━━━━━━━━━━━\u001b[0m\u001b[37m\u001b[0m \u001b[1m3s\u001b[0m 4ms/step - accuracy: 0.8756 - loss: 0.3190 - val_accuracy: 0.8512 - val_loss: 0.3571\n",
      "Epoch 13/1000\n",
      "\u001b[1m536/536\u001b[0m \u001b[32m━━━━━━━━━━━━━━━━━━━━\u001b[0m\u001b[37m\u001b[0m \u001b[1m3s\u001b[0m 3ms/step - accuracy: 0.8637 - loss: 0.3201 - val_accuracy: 0.8519 - val_loss: 0.3525\n",
      "Epoch 14/1000\n",
      "\u001b[1m536/536\u001b[0m \u001b[32m━━━━━━━━━━━━━━━━━━━━\u001b[0m\u001b[37m\u001b[0m \u001b[1m3s\u001b[0m 3ms/step - accuracy: 0.8703 - loss: 0.3167 - val_accuracy: 0.8489 - val_loss: 0.3700\n",
      "Epoch 15/1000\n",
      "\u001b[1m536/536\u001b[0m \u001b[32m━━━━━━━━━━━━━━━━━━━━\u001b[0m\u001b[37m\u001b[0m \u001b[1m3s\u001b[0m 3ms/step - accuracy: 0.8586 - loss: 0.3261 - val_accuracy: 0.8501 - val_loss: 0.3608\n",
      "Epoch 16/1000\n",
      "\u001b[1m536/536\u001b[0m \u001b[32m━━━━━━━━━━━━━━━━━━━━\u001b[0m\u001b[37m\u001b[0m \u001b[1m3s\u001b[0m 3ms/step - accuracy: 0.8627 - loss: 0.3274 - val_accuracy: 0.8516 - val_loss: 0.3540\n",
      "Epoch 17/1000\n",
      "\u001b[1m536/536\u001b[0m \u001b[32m━━━━━━━━━━━━━━━━━━━━\u001b[0m\u001b[37m\u001b[0m \u001b[1m2s\u001b[0m 4ms/step - accuracy: 0.8666 - loss: 0.3198 - val_accuracy: 0.8497 - val_loss: 0.3627\n",
      "Epoch 18/1000\n",
      "\u001b[1m536/536\u001b[0m \u001b[32m━━━━━━━━━━━━━━━━━━━━\u001b[0m\u001b[37m\u001b[0m \u001b[1m3s\u001b[0m 5ms/step - accuracy: 0.8715 - loss: 0.3146 - val_accuracy: 0.8497 - val_loss: 0.3622\n",
      "Epoch 19/1000\n",
      "\u001b[1m536/536\u001b[0m \u001b[32m━━━━━━━━━━━━━━━━━━━━\u001b[0m\u001b[37m\u001b[0m \u001b[1m5s\u001b[0m 8ms/step - accuracy: 0.8652 - loss: 0.3231 - val_accuracy: 0.8542 - val_loss: 0.3553\n",
      "Epoch 20/1000\n",
      "\u001b[1m536/536\u001b[0m \u001b[32m━━━━━━━━━━━━━━━━━━━━\u001b[0m\u001b[37m\u001b[0m \u001b[1m4s\u001b[0m 5ms/step - accuracy: 0.8623 - loss: 0.3240 - val_accuracy: 0.8580 - val_loss: 0.3499\n",
      "Epoch 21/1000\n",
      "\u001b[1m536/536\u001b[0m \u001b[32m━━━━━━━━━━━━━━━━━━━━\u001b[0m\u001b[37m\u001b[0m \u001b[1m5s\u001b[0m 4ms/step - accuracy: 0.8704 - loss: 0.3162 - val_accuracy: 0.8561 - val_loss: 0.3533\n",
      "Epoch 22/1000\n",
      "\u001b[1m536/536\u001b[0m \u001b[32m━━━━━━━━━━━━━━━━━━━━\u001b[0m\u001b[37m\u001b[0m \u001b[1m3s\u001b[0m 5ms/step - accuracy: 0.8688 - loss: 0.3193 - val_accuracy: 0.8535 - val_loss: 0.3580\n",
      "Epoch 23/1000\n",
      "\u001b[1m536/536\u001b[0m \u001b[32m━━━━━━━━━━━━━━━━━━━━\u001b[0m\u001b[37m\u001b[0m \u001b[1m2s\u001b[0m 4ms/step - accuracy: 0.8674 - loss: 0.3178 - val_accuracy: 0.8535 - val_loss: 0.3549\n",
      "Epoch 24/1000\n",
      "\u001b[1m536/536\u001b[0m \u001b[32m━━━━━━━━━━━━━━━━━━━━\u001b[0m\u001b[37m\u001b[0m \u001b[1m3s\u001b[0m 4ms/step - accuracy: 0.8652 - loss: 0.3266 - val_accuracy: 0.8527 - val_loss: 0.3681\n",
      "Epoch 25/1000\n",
      "\u001b[1m536/536\u001b[0m \u001b[32m━━━━━━━━━━━━━━━━━━━━\u001b[0m\u001b[37m\u001b[0m \u001b[1m5s\u001b[0m 8ms/step - accuracy: 0.8716 - loss: 0.3067 - val_accuracy: 0.8557 - val_loss: 0.3637\n",
      "Epoch 26/1000\n",
      "\u001b[1m536/536\u001b[0m \u001b[32m━━━━━━━━━━━━━━━━━━━━\u001b[0m\u001b[37m\u001b[0m \u001b[1m4s\u001b[0m 7ms/step - accuracy: 0.8716 - loss: 0.3045 - val_accuracy: 0.8523 - val_loss: 0.3532\n",
      "Epoch 27/1000\n",
      "\u001b[1m536/536\u001b[0m \u001b[32m━━━━━━━━━━━━━━━━━━━━\u001b[0m\u001b[37m\u001b[0m \u001b[1m4s\u001b[0m 4ms/step - accuracy: 0.8668 - loss: 0.3095 - val_accuracy: 0.8478 - val_loss: 0.3595\n",
      "Epoch 28/1000\n",
      "\u001b[1m536/536\u001b[0m \u001b[32m━━━━━━━━━━━━━━━━━━━━\u001b[0m\u001b[37m\u001b[0m \u001b[1m3s\u001b[0m 5ms/step - accuracy: 0.8682 - loss: 0.3159 - val_accuracy: 0.8546 - val_loss: 0.3574\n",
      "Epoch 29/1000\n",
      "\u001b[1m536/536\u001b[0m \u001b[32m━━━━━━━━━━━━━━━━━━━━\u001b[0m\u001b[37m\u001b[0m \u001b[1m3s\u001b[0m 6ms/step - accuracy: 0.8583 - loss: 0.3347 - val_accuracy: 0.8531 - val_loss: 0.3550\n",
      "Epoch 30/1000\n",
      "\u001b[1m536/536\u001b[0m \u001b[32m━━━━━━━━━━━━━━━━━━━━\u001b[0m\u001b[37m\u001b[0m \u001b[1m3s\u001b[0m 5ms/step - accuracy: 0.8722 - loss: 0.3100 - val_accuracy: 0.8478 - val_loss: 0.3678\n",
      "Epoch 31/1000\n",
      "\u001b[1m536/536\u001b[0m \u001b[32m━━━━━━━━━━━━━━━━━━━━\u001b[0m\u001b[37m\u001b[0m \u001b[1m2s\u001b[0m 4ms/step - accuracy: 0.8629 - loss: 0.3292 - val_accuracy: 0.8542 - val_loss: 0.3526\n",
      "Epoch 32/1000\n",
      "\u001b[1m536/536\u001b[0m \u001b[32m━━━━━━━━━━━━━━━━━━━━\u001b[0m\u001b[37m\u001b[0m \u001b[1m3s\u001b[0m 4ms/step - accuracy: 0.8650 - loss: 0.3205 - val_accuracy: 0.8504 - val_loss: 0.3517\n",
      "Epoch 33/1000\n",
      "\u001b[1m536/536\u001b[0m \u001b[32m━━━━━━━━━━━━━━━━━━━━\u001b[0m\u001b[37m\u001b[0m \u001b[1m2s\u001b[0m 4ms/step - accuracy: 0.8684 - loss: 0.3138 - val_accuracy: 0.8485 - val_loss: 0.3598\n",
      "Epoch 34/1000\n",
      "\u001b[1m536/536\u001b[0m \u001b[32m━━━━━━━━━━━━━━━━━━━━\u001b[0m\u001b[37m\u001b[0m \u001b[1m2s\u001b[0m 4ms/step - accuracy: 0.8692 - loss: 0.3157 - val_accuracy: 0.8519 - val_loss: 0.3644\n",
      "Epoch 35/1000\n",
      "\u001b[1m536/536\u001b[0m \u001b[32m━━━━━━━━━━━━━━━━━━━━\u001b[0m\u001b[37m\u001b[0m \u001b[1m3s\u001b[0m 4ms/step - accuracy: 0.8601 - loss: 0.3318 - val_accuracy: 0.8508 - val_loss: 0.3570\n",
      "Epoch 36/1000\n",
      "\u001b[1m536/536\u001b[0m \u001b[32m━━━━━━━━━━━━━━━━━━━━\u001b[0m\u001b[37m\u001b[0m \u001b[1m3s\u001b[0m 5ms/step - accuracy: 0.8721 - loss: 0.3145 - val_accuracy: 0.8523 - val_loss: 0.3652\n",
      "Epoch 37/1000\n",
      "\u001b[1m536/536\u001b[0m \u001b[32m━━━━━━━━━━━━━━━━━━━━\u001b[0m\u001b[37m\u001b[0m \u001b[1m6s\u001b[0m 6ms/step - accuracy: 0.8704 - loss: 0.3163 - val_accuracy: 0.8546 - val_loss: 0.3615\n",
      "Epoch 38/1000\n",
      "\u001b[1m536/536\u001b[0m \u001b[32m━━━━━━━━━━━━━━━━━━━━\u001b[0m\u001b[37m\u001b[0m \u001b[1m4s\u001b[0m 3ms/step - accuracy: 0.8689 - loss: 0.3146 - val_accuracy: 0.8542 - val_loss: 0.3634\n",
      "Epoch 39/1000\n",
      "\u001b[1m536/536\u001b[0m \u001b[32m━━━━━━━━━━━━━━━━━━━━\u001b[0m\u001b[37m\u001b[0m \u001b[1m4s\u001b[0m 5ms/step - accuracy: 0.8627 - loss: 0.3282 - val_accuracy: 0.8508 - val_loss: 0.3702\n",
      "Epoch 40/1000\n",
      "\u001b[1m536/536\u001b[0m \u001b[32m━━━━━━━━━━━━━━━━━━━━\u001b[0m\u001b[37m\u001b[0m \u001b[1m2s\u001b[0m 4ms/step - accuracy: 0.8546 - loss: 0.3390 - val_accuracy: 0.8531 - val_loss: 0.3651\n",
      "Epoch 40: early stopping\n"
     ]
    }
   ],
   "source": [
    "model_history=classifier.fit(X_train,y_train,validation_split=.33,batch_size=10,epochs=1000,callbacks=early_stopping)"
   ]
  },
  {
   "cell_type": "code",
   "execution_count": 22,
   "id": "215e3a93-4bb5-4e0b-b74e-0e8d2c0cf279",
   "metadata": {},
   "outputs": [
    {
     "data": {
      "text/plain": [
       "dict_keys(['accuracy', 'loss', 'val_accuracy', 'val_loss'])"
      ]
     },
     "execution_count": 22,
     "metadata": {},
     "output_type": "execute_result"
    }
   ],
   "source": [
    "model_history.history.keys()"
   ]
  },
  {
   "cell_type": "code",
   "execution_count": 23,
   "id": "00cf4f04-a962-44dd-909f-30ad00413686",
   "metadata": {},
   "outputs": [
    {
     "data": {
      "image/png": "[encoded data removed]",
      "text/plain": [
       "<Figure size 640x480 with 1 Axes>"
      ]
     },
     "metadata": {},
     "output_type": "display_data"
    }
   ],
   "source": [
    "plt.plot(model_history.history['accuracy'])\n",
    "plt.plot(model_history.history['val_accuracy'])\n",
    "plt.title(\"model accuracy\")\n",
    "plt.xlabel('accuracy')\n",
    "plt.ylabel('epoch')\n",
    "plt.legend(['train','test'])\n",
    "plt.show()\n"
   ]
  },
  {
   "cell_type": "code",
   "execution_count": 24,
   "id": "20b188c2-543e-4aa3-b15b-c9eff00a4e08",
   "metadata": {},
   "outputs": [
    {
     "data": {
      "image/png": "[encoded data removed]",
      "text/plain": [
       "<Figure size 640x480 with 1 Axes>"
      ]
     },
     "metadata": {},
     "output_type": "display_data"
    }
   ],
   "source": [
    "plt.plot(model_history.history['loss'])\n",
    "plt.plot(model_history.history['val_loss'])\n",
    "plt.title(\"model loss\")\n",
    "plt.xlabel('loss')\n",
    "plt.ylabel('epoch')\n",
    "plt.legend(['train','test'])\n",
    "plt.show()"
   ]
  },
  {
   "cell_type": "code",
   "execution_count": 25,
   "id": "5b8b3f5d-2df6-4bce-b6fc-14ddde33c0aa",
   "metadata": {},
   "outputs": [
    {
     "name": "stdout",
     "output_type": "stream",
     "text": [
      "\u001b[1m63/63\u001b[0m \u001b[32m━━━━━━━━━━━━━━━━━━━━\u001b[0m\u001b[37m\u001b[0m \u001b[1m3s\u001b[0m 6ms/step\n"
     ]
    }
   ],
   "source": [
    "y_pred=classifier.predict(X_test)"
   ]
  },
  {
   "cell_type": "code",
   "execution_count": 26,
   "id": "7245ed9e-dfa4-4565-906c-336e17b404de",
   "metadata": {},
   "outputs": [
    {
     "data": {
      "text/plain": [
       "array([[False],\n",
       "       [False],\n",
       "       [False],\n",
       "       ...,\n",
       "       [False],\n",
       "       [ True],\n",
       "       [False]])"
      ]
     },
     "execution_count": 26,
     "metadata": {},
     "output_type": "execute_result"
    }
   ],
   "source": [
    "len(y_pred)\n",
    "\n",
    "y_pred=(y_pred>=.5)\n",
    "y_pred"
   ]
  },
  {
   "cell_type": "code",
   "execution_count": 27,
   "id": "5bb6c353-c04b-48c2-9afb-b4e1cac16644",
   "metadata": {},
   "outputs": [
    {
     "data": {
      "text/plain": [
       "<Axes: >"
      ]
     },
     "execution_count": 27,
     "metadata": {},
     "output_type": "execute_result"
    },
    {
     "data": {
      "image/png": "[encoded data removed]",
      "text/plain": [
       "<Figure size 640x480 with 2 Axes>"
      ]
     },
     "metadata": {},
     "output_type": "display_data"
    }
   ],
   "source": [
    "from sklearn.metrics import confusion_matrix\n",
    "cm=confusion_matrix(y_test,y_pred)\n",
    "import seaborn as sns\n",
    "sns.heatmap(cm,fmt='.2f',annot=True)"
   ]
  },
  {
   "cell_type": "code",
   "execution_count": 28,
   "id": "5e7f95c2-0244-4a67-8f3e-85108d41eef3",
   "metadata": {},
   "outputs": [
    {
     "data": {
      "text/plain": [
       "[array([[-2.57678598e-01,  1.00107372e+00,  2.72234827e-01,\n",
       "          9.03776288e-02, -6.40006438e-02, -3.71578366e-01,\n",
       "          6.83251070e-04, -8.11772406e-01, -3.68996471e-01,\n",
       "          9.07397330e-01,  9.84479338e-02],\n",
       "        [-9.34175700e-02,  1.54369748e+00,  7.29957879e-01,\n",
       "         -3.30242157e+00, -3.53198838e+00, -5.92140913e-01,\n",
       "         -3.19899845e+00,  2.71579337e+00,  3.66198587e+00,\n",
       "         -8.05443168e-01, -1.39537477e+00],\n",
       "        [-2.55414061e-02,  2.14644998e-01,  7.85366416e-01,\n",
       "          2.20960662e-01, -1.22110212e+00, -6.82291165e-02,\n",
       "          3.35099161e-01,  1.01215735e-01, -6.74001098e-01,\n",
       "          4.67047095e-01,  3.40107292e-01],\n",
       "        [-2.94838262e+00, -1.50434422e+00,  9.95234013e-01,\n",
       "          5.90547882e-02,  3.31462651e-01,  3.42083871e-01,\n",
       "         -7.92772412e-01, -1.48737267e-01, -1.12941906e-01,\n",
       "          2.29813099e+00, -2.07104468e+00],\n",
       "        [-3.42119718e+00, -9.72970784e-01,  2.09343219e+00,\n",
       "          6.44706070e-01,  3.96260321e-01,  3.22174811e+00,\n",
       "         -1.57878757e+00,  1.70280421e+00, -1.40139353e+00,\n",
       "         -2.41105780e-01, -8.73433053e-01],\n",
       "        [-3.76669943e-01, -3.10897261e-01, -9.36388075e-01,\n",
       "          3.65649223e-01, -5.63942671e-01, -3.95879030e-01,\n",
       "          4.62143213e-01, -9.49274562e-03,  3.66596788e-01,\n",
       "          3.64619225e-01, -7.99181089e-02],\n",
       "        [ 1.99327096e-01,  2.28890252e+00, -2.96937871e+00,\n",
       "          1.37637997e+00,  3.31376493e-01, -9.42656398e-02,\n",
       "          5.04687905e-01,  9.54041719e-01, -9.28356886e-01,\n",
       "          2.31781721e+00,  1.03564346e+00],\n",
       "        [ 2.40000755e-01,  2.10686967e-01,  9.30254221e-01,\n",
       "          2.81376362e-01,  2.32260376e-01,  5.78142703e-01,\n",
       "         -3.88980865e-01,  5.93974814e-02, -2.18933210e-01,\n",
       "         -2.41312198e-02, -5.65658510e-01],\n",
       "        [ 1.76460898e+00, -6.72451556e-01, -4.01549727e-01,\n",
       "         -1.25718832e-01,  7.73752928e-01, -1.43298069e-02,\n",
       "          7.46087059e-02,  2.58917481e-01,  3.70866746e-01,\n",
       "         -2.76671624e+00, -1.78544140e+00],\n",
       "        [ 3.23613554e-01,  2.25876078e-01, -5.87022543e-01,\n",
       "         -1.32621181e+00, -2.34490013e+00, -3.05482931e-02,\n",
       "          5.32942295e-01,  4.87501860e-01,  4.68516946e-01,\n",
       "          8.02999318e-01,  9.75076318e-01],\n",
       "        [-5.81857897e-02,  1.30350626e+00, -2.30944976e-01,\n",
       "          1.63630390e+00, -4.58186567e-01,  2.41026238e-01,\n",
       "          1.61408234e+00, -4.32604402e-01, -1.85330644e-01,\n",
       "          7.86609650e-01,  1.17508638e+00]], dtype=float32),\n",
       " array([-1.8157047 , -2.3370554 , -2.3136356 , -0.5746824 , -0.01860134,\n",
       "        -4.294623  , -3.6329858 , -3.309664  , -1.5231822 , -0.77487   ,\n",
       "         1.249338  ], dtype=float32),\n",
       " array([[-3.3366034e+00, -3.5570107e+00,  6.8629378e-01,  5.4611701e-01,\n",
       "          1.1714384e-01, -3.2799983e+00,  3.8189369e-01],\n",
       "        [-1.4050180e+00,  1.0021712e+00,  1.5872115e+00, -2.6301217e+00,\n",
       "          5.5399138e-01,  4.4147130e-02, -1.1909561e+00],\n",
       "        [ 9.0255576e-01, -6.4405900e-01, -8.0113345e-01,  2.0466127e+00,\n",
       "          1.8366790e-01, -1.2415085e-01,  1.3333590e+00],\n",
       "        [-7.0793682e-01,  6.9303858e-01,  1.9182866e+00, -2.9506846e-03,\n",
       "         -1.6427000e+00,  5.3705734e-01,  8.3847493e-01],\n",
       "        [-1.0220920e+00,  2.1810719e-01, -1.7444805e+00, -1.0325400e+00,\n",
       "         -1.9493619e+00,  4.7986243e-02,  4.9905208e-01],\n",
       "        [-2.5244305e-01, -1.9900107e+00, -4.9993005e+00,  1.9962316e+00,\n",
       "         -4.9855413e+00, -3.5735645e+00, -3.9640439e+00],\n",
       "        [-1.5795465e+00, -1.9002224e+00,  1.1070147e+00,  2.6440719e-01,\n",
       "         -4.6106729e-01, -2.9713409e+00,  3.8122973e-01],\n",
       "        [-3.6700718e+00, -7.9418153e-01,  1.1948375e+00,  6.8818325e-01,\n",
       "         -3.8378139e+00, -2.9928797e-01, -1.2141303e+00],\n",
       "        [-1.4134018e+00, -4.7831375e-02,  2.1418522e-01, -1.0444130e-01,\n",
       "          1.1432925e+00, -5.1251459e-01, -2.5314848e+00],\n",
       "        [ 2.1207900e-01, -2.6628246e+00,  3.6708173e-01,  1.0670621e+00,\n",
       "         -4.3503900e+00, -2.4790831e-01,  6.7458880e-01],\n",
       "        [ 1.1433275e+00,  9.6523261e-01, -1.3196815e+00, -1.4817109e+00,\n",
       "         -1.0794113e-01,  8.6929828e-01,  3.7689567e-01]], dtype=float32),\n",
       " array([ 1.2096573 ,  0.7045802 , -2.5707734 , -2.1334097 ,  0.99224764,\n",
       "         2.960326  ,  1.0205939 ], dtype=float32),\n",
       " array([[-2.1448567e+00, -4.1280121e-01, -6.1336076e-01, -8.2404327e-01,\n",
       "         -1.0278754e-01,  1.3055217e-01],\n",
       "        [ 8.6739942e-02, -1.4615554e-01, -1.5288010e-01, -8.9850992e-02,\n",
       "         -9.4138859e-03,  8.5019863e-01],\n",
       "        [-9.2156225e-01, -3.4275332e-01, -3.7853202e-01, -7.9413778e-01,\n",
       "         -1.6711639e+00,  5.9226924e-01],\n",
       "        [ 1.3659049e+00, -3.8298672e-01, -5.4617798e-01,  1.1967100e-01,\n",
       "         -9.9016744e-01, -4.8093772e-01],\n",
       "        [ 8.8155192e-01, -6.2620991e-01, -2.3593690e-02,  3.3404553e-01,\n",
       "          4.1676347e-05, -8.5829270e-01],\n",
       "        [-1.1023843e+00, -3.6856285e-01, -8.7350446e-01, -8.3995557e-01,\n",
       "          4.7113750e-02,  9.0545654e-01],\n",
       "        [-2.0317268e+00, -4.0316021e-01, -3.1533825e-01, -4.5484269e-01,\n",
       "         -1.2166681e+00,  4.8605198e-01]], dtype=float32),\n",
       " array([-0.5906297 ,  0.        , -0.818721  , -0.82340735, -0.5063718 ,\n",
       "        -0.01871962], dtype=float32),\n",
       " array([[ 0.49119085],\n",
       "        [-0.7547659 ],\n",
       "        [ 0.19418526],\n",
       "        [ 0.16198942],\n",
       "        [ 0.04272543],\n",
       "        [-0.27234435]], dtype=float32),\n",
       " array([-0.3140185], dtype=float32)]"
      ]
     },
     "execution_count": 28,
     "metadata": {},
     "output_type": "execute_result"
    }
   ],
   "source": [
    "from sklearn.metrics import accuracy_score\n",
    "accuracy_score(y_test,y_pred)\n",
    "\n",
    "#get the weights\n",
    "classifier.get_weights()"
   ]
  },
  {
   "cell_type": "code",
   "execution_count": null,
   "id": "a2b58a72-3b29-42b6-8b24-112327cd7d9f",
   "metadata": {},
   "outputs": [],
   "source": []
  }
 ],
 "metadata": {
  "kernelspec": {
   "display_name": "Python 3 (ipykernel)",
   "language": "python",
   "name": "python3"
  },
  "language_info": {
   "codemirror_mode": {
    "name": "ipython",
    "version": 3
   },
   "file_extension": ".py",
   "mimetype": "text/x-python",
   "name": "python",
   "nbconvert_exporter": "python",
   "pygments_lexer": "ipython3",
   "version": "3.11.7"
  }
 },
 "nbformat": 4,
 "nbformat_minor": 5
}
